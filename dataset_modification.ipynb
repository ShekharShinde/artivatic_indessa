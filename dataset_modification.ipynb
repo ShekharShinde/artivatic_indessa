{
 "cells": [
  {
   "cell_type": "code",
   "execution_count": 1,
   "metadata": {},
   "outputs": [
    {
     "name": "stdout",
     "output_type": "stream",
     "text": [
      "[Info]: Importing Libraries...\n",
      "\n",
      "[Info]: Import Complete...\n"
     ]
    }
   ],
   "source": [
    "print('[Info]: Importing Libraries...')\n",
    "\n",
    "import os\n",
    "import pandas as pd\n",
    "import numpy as np\n",
    "# from sklearn.preprocessing import OrdinalEncoder\n",
    "import seaborn as sns\n",
    "import matplotlib.pyplot as plt\n",
    "\n",
    "# Configure visualisations\n",
    "%matplotlib inline\n",
    "sns.set_style( 'white' )\n",
    "\n",
    "print('\\n[Info]: Import Complete...')"
   ]
  },
  {
   "cell_type": "code",
   "execution_count": 2,
   "metadata": {},
   "outputs": [],
   "source": [
    "# #unzipping data file\n",
    "# !unzip -qq ML_Artivatic_dataset.zip\n",
    "# %cd ML_Artivatic_dataset"
   ]
  },
  {
   "cell_type": "code",
   "execution_count": 3,
   "metadata": {},
   "outputs": [
    {
     "name": "stdout",
     "output_type": "stream",
     "text": [
      "[Info]: Data Loading...\n",
      "Shape of the Data (532428, 45)\n"
     ]
    }
   ],
   "source": [
    "print('[Info]: Data Loading...')\n",
    "data = pd.read_csv('train_indessa.csv')\n",
    "print('Shape of the Data {}'.format(data.shape))"
   ]
  },
  {
   "cell_type": "code",
   "execution_count": 4,
   "metadata": {},
   "outputs": [],
   "source": [
    "# Few Helper Functions\n",
    "\n",
    "### pivot_table for two categorical features one being loan_status\n",
    "def pivot(col): \n",
    "    return pd.pivot_table(data,'member_id',index=[col],\n",
    "                          columns=['loan_status'],aggfunc='count')\n",
    "\n",
    "def bar_graph(col):\n",
    "    df = pivot(col)\n",
    "    name_x = list(df.index)\n",
    "    y1 = df[1].values/532428.0\n",
    "    y0 = df[0].values/532428.0\n",
    "    x = np.array(range(1,len(name_x)+1))    \n",
    "\n",
    "    fig= plt.figure()\n",
    "    ax = fig.add_subplot(111)\n",
    "    ax.bar(x-0.25,y0,width=0.25,color='g')\n",
    "    ax.bar(x,y1,width=0.25,color='r')\n",
    "\n",
    "    ax.set_ylabel(col)\n",
    "    ax.set_title(\"{} vs defaulter(0,1)\".format(col))\n",
    "    ax.set_xticks(x)\n",
    "    ax.set_xticklabels(name_x)\n",
    "    ax.legend(['0','1'], loc='best')\n",
    "    plt.xticks(rotation=70)\n",
    "    plt.show()\n",
    "    return\n",
    "\n",
    "def drop_features(df, cols):\n",
    "    for col in cols:\n",
    "        del df[col]\n",
    "\n",
    "def create_dummy(df,col):\n",
    "    df_col = pd.get_dummies(df[col], prefix = col)\n",
    "    df = pd.concat([df, df_col], axis=1)\n",
    "    return df.drop([col], axis=1)"
   ]
  },
  {
   "cell_type": "code",
   "execution_count": 5,
   "metadata": {},
   "outputs": [
    {
     "name": "stdout",
     "output_type": "stream",
     "text": [
      "<class 'pandas.core.frame.DataFrame'>\n",
      "RangeIndex: 532428 entries, 0 to 532427\n",
      "Data columns (total 45 columns):\n",
      " #   Column                       Non-Null Count   Dtype  \n",
      "---  ------                       --------------   -----  \n",
      " 0   member_id                    532428 non-null  int64  \n",
      " 1   loan_amnt                    532428 non-null  int64  \n",
      " 2   funded_amnt                  532428 non-null  int64  \n",
      " 3   funded_amnt_inv              532428 non-null  float64\n",
      " 4   term                         532428 non-null  object \n",
      " 5   batch_enrolled               447279 non-null  object \n",
      " 6   int_rate                     532428 non-null  float64\n",
      " 7   grade                        532428 non-null  object \n",
      " 8   sub_grade                    532428 non-null  object \n",
      " 9   emp_title                    501595 non-null  object \n",
      " 10  emp_length                   505537 non-null  object \n",
      " 11  home_ownership               532428 non-null  object \n",
      " 12  annual_inc                   532425 non-null  float64\n",
      " 13  verification_status          532428 non-null  object \n",
      " 14  pymnt_plan                   532428 non-null  object \n",
      " 15  desc                         75599 non-null   object \n",
      " 16  purpose                      532428 non-null  object \n",
      " 17  title                        532338 non-null  object \n",
      " 18  zip_code                     532428 non-null  object \n",
      " 19  addr_state                   532428 non-null  object \n",
      " 20  dti                          532428 non-null  float64\n",
      " 21  delinq_2yrs                  532412 non-null  float64\n",
      " 22  inq_last_6mths               532412 non-null  float64\n",
      " 23  mths_since_last_delinq       259874 non-null  float64\n",
      " 24  mths_since_last_record       82123 non-null   float64\n",
      " 25  open_acc                     532412 non-null  float64\n",
      " 26  pub_rec                      532412 non-null  float64\n",
      " 27  revol_bal                    532428 non-null  float64\n",
      " 28  revol_util                   532141 non-null  float64\n",
      " 29  total_acc                    532412 non-null  float64\n",
      " 30  initial_list_status          532428 non-null  object \n",
      " 31  total_rec_int                532428 non-null  float64\n",
      " 32  total_rec_late_fee           532428 non-null  float64\n",
      " 33  recoveries                   532428 non-null  float64\n",
      " 34  collection_recovery_fee      532428 non-null  float64\n",
      " 35  collections_12_mths_ex_med   532333 non-null  float64\n",
      " 36  mths_since_last_major_derog  132980 non-null  float64\n",
      " 37  application_type             532428 non-null  object \n",
      " 38  verification_status_joint    305 non-null     object \n",
      " 39  last_week_pay                532428 non-null  object \n",
      " 40  acc_now_delinq               532412 non-null  float64\n",
      " 41  tot_coll_amt                 490424 non-null  float64\n",
      " 42  tot_cur_bal                  490424 non-null  float64\n",
      " 43  total_rev_hi_lim             490424 non-null  float64\n",
      " 44  loan_status                  532428 non-null  int64  \n",
      "dtypes: float64(23), int64(4), object(18)\n",
      "memory usage: 182.8+ MB\n"
     ]
    }
   ],
   "source": [
    "data.info()"
   ]
  },
  {
   "cell_type": "code",
   "execution_count": 6,
   "metadata": {},
   "outputs": [
    {
     "data": {
      "text/plain": [
       "member_id                       0.000000\n",
       "loan_amnt                       0.000000\n",
       "funded_amnt                     0.000000\n",
       "funded_amnt_inv                 0.000000\n",
       "term                            0.000000\n",
       "batch_enrolled                 15.992585\n",
       "int_rate                        0.000000\n",
       "grade                           0.000000\n",
       "sub_grade                       0.000000\n",
       "emp_title                       5.791018\n",
       "emp_length                      5.050636\n",
       "home_ownership                  0.000000\n",
       "annual_inc                      0.000563\n",
       "verification_status             0.000000\n",
       "pymnt_plan                      0.000000\n",
       "desc                           85.801085\n",
       "purpose                         0.000000\n",
       "title                           0.016904\n",
       "zip_code                        0.000000\n",
       "addr_state                      0.000000\n",
       "dti                             0.000000\n",
       "delinq_2yrs                     0.003005\n",
       "inq_last_6mths                  0.003005\n",
       "mths_since_last_delinq         51.190771\n",
       "mths_since_last_record         84.575755\n",
       "open_acc                        0.003005\n",
       "pub_rec                         0.003005\n",
       "revol_bal                       0.000000\n",
       "revol_util                      0.053904\n",
       "total_acc                       0.003005\n",
       "initial_list_status             0.000000\n",
       "total_rec_int                   0.000000\n",
       "total_rec_late_fee              0.000000\n",
       "recoveries                      0.000000\n",
       "collection_recovery_fee         0.000000\n",
       "collections_12_mths_ex_med      0.017843\n",
       "mths_since_last_major_derog    75.023853\n",
       "application_type                0.000000\n",
       "verification_status_joint      99.942715\n",
       "last_week_pay                   0.000000\n",
       "acc_now_delinq                  0.003005\n",
       "tot_coll_amt                    7.889142\n",
       "tot_cur_bal                     7.889142\n",
       "total_rev_hi_lim                7.889142\n",
       "loan_status                     0.000000\n",
       "dtype: float64"
      ]
     },
     "execution_count": 6,
     "metadata": {},
     "output_type": "execute_result"
    }
   ],
   "source": [
    "# to Check if NULL Values Not Present Present\n",
    "data.isnull().sum()/len(data)*100"
   ]
  },
  {
   "cell_type": "code",
   "execution_count": 7,
   "metadata": {},
   "outputs": [],
   "source": [
    "# removing the feature if more that 50% of the data is missing\n",
    "missing_value_feat = ['desc', 'mths_since_last_delinq', 'mths_since_last_record',\n",
    "                     'mths_since_last_major_derog', 'verification_status_joint']"
   ]
  },
  {
   "cell_type": "code",
   "execution_count": 8,
   "metadata": {},
   "outputs": [],
   "source": [
    "drop_features(data, missing_value_feat)"
   ]
  },
  {
   "cell_type": "markdown",
   "metadata": {},
   "source": [
    "### Dropping 'term' feature"
   ]
  },
  {
   "cell_type": "code",
   "execution_count": 9,
   "metadata": {},
   "outputs": [
    {
     "data": {
      "image/png": "[encoded data removed]",
      "text/plain": [
       "<Figure size 432x288 with 1 Axes>"
      ]
     },
     "metadata": {},
     "output_type": "display_data"
    }
   ],
   "source": [
    "bar_graph('term')"
   ]
  },
  {
   "cell_type": "code",
   "execution_count": 10,
   "metadata": {},
   "outputs": [],
   "source": [
    "# Creating a list of features to drop\n",
    "features_to_drop = ['term']"
   ]
  },
  {
   "cell_type": "markdown",
   "metadata": {},
   "source": [
    "### Dropping 'batch_enrolled' feature"
   ]
  },
  {
   "cell_type": "code",
   "execution_count": 11,
   "metadata": {},
   "outputs": [
    {
     "name": "stdout",
     "output_type": "stream",
     "text": [
      "              0.237165\n",
      "BAT2252229    0.042012\n",
      "BAT3873588    0.039883\n",
      "BAT2803411    0.038256\n",
      "BAT2078974    0.033221\n",
      "                ...   \n",
      "BAT4347689    0.000067\n",
      "BAT4884699    0.000065\n",
      "BAT5869156    0.000058\n",
      "BAT5077496    0.000040\n",
      "BAT2331079    0.000029\n",
      "Name: batch_enrolled, Length: 104, dtype: float64\n"
     ]
    }
   ],
   "source": [
    "item_counts = data.batch_enrolled.value_counts(normalize=True)\n",
    "print(item_counts)"
   ]
  },
  {
   "cell_type": "code",
   "execution_count": 12,
   "metadata": {},
   "outputs": [],
   "source": [
    "# Adding 'batch_enrolled' to drop list\n",
    "features_to_drop.append('batch_enrolled')"
   ]
  },
  {
   "cell_type": "markdown",
   "metadata": {},
   "source": [
    "### Converting \"int_rate\" into bins"
   ]
  },
  {
   "cell_type": "code",
   "execution_count": 13,
   "metadata": {},
   "outputs": [
    {
     "data": {
      "text/plain": [
       "count    532428.000000\n",
       "mean         13.242969\n",
       "std           4.379611\n",
       "min           5.320000\n",
       "25%           9.990000\n",
       "50%          12.990000\n",
       "75%          16.200000\n",
       "max          28.990000\n",
       "Name: int_rate, dtype: float64"
      ]
     },
     "execution_count": 13,
     "metadata": {},
     "output_type": "execute_result"
    }
   ],
   "source": [
    "data.int_rate.describe()"
   ]
  },
  {
   "cell_type": "markdown",
   "metadata": {},
   "source": [
    "#### Since \"int_rate\" is varible we will divide it into three types.\n",
    "Low, mid and high based on mean and standard deviation.\n",
    "\n",
    "int_rate == low if int_rate <= Mean-SD \\\n",
    "int_rate == mid if Mean+SD > int_rate > Mean-SD \\\n",
    "int_rate == high if int_rate >= Mean+SD"
   ]
  },
  {
   "cell_type": "code",
   "execution_count": 14,
   "metadata": {},
   "outputs": [],
   "source": [
    "int_rate_bins = pd.cut(data.int_rate, bins = [5,9,17,29],\n",
    "                       labels=['low', 'mid', 'high'])\n",
    "data.insert(7,'int_rate_bins',int_rate_bins)"
   ]
  },
  {
   "cell_type": "code",
   "execution_count": 15,
   "metadata": {},
   "outputs": [],
   "source": [
    "data = create_dummy(data, 'int_rate_bins')"
   ]
  },
  {
   "cell_type": "code",
   "execution_count": 16,
   "metadata": {},
   "outputs": [],
   "source": [
    "# Adding 'int_rate' and to drop list\n",
    "features_to_drop.append('int_rate')"
   ]
  },
  {
   "cell_type": "markdown",
   "metadata": {},
   "source": [
    "### Creating Dummy for 'grade'"
   ]
  },
  {
   "cell_type": "code",
   "execution_count": 17,
   "metadata": {},
   "outputs": [
    {
     "data": {
      "image/png": "[encoded data removed]",
      "text/plain": [
       "<Figure size 432x288 with 1 Axes>"
      ]
     },
     "metadata": {},
     "output_type": "display_data"
    }
   ],
   "source": [
    "bar_graph('grade')"
   ]
  },
  {
   "cell_type": "code",
   "execution_count": 18,
   "metadata": {},
   "outputs": [],
   "source": [
    "data = create_dummy(data, 'grade')"
   ]
  },
  {
   "cell_type": "markdown",
   "metadata": {},
   "source": [
    "### Dropping 'sub_grade' feature \n",
    "\n",
    "As majority of the information needed is covered by 'grade'"
   ]
  },
  {
   "cell_type": "code",
   "execution_count": 19,
   "metadata": {
    "scrolled": true
   },
   "outputs": [
    {
     "data": {
      "image/png": "[encoded data removed]",
      "text/plain": [
       "<Figure size 432x288 with 1 Axes>"
      ]
     },
     "metadata": {},
     "output_type": "display_data"
    }
   ],
   "source": [
    "bar_graph('sub_grade')"
   ]
  },
  {
   "cell_type": "code",
   "execution_count": 20,
   "metadata": {},
   "outputs": [],
   "source": [
    "# Adding 'sub_grade' to drop list\n",
    "features_to_drop.append('sub_grade')"
   ]
  },
  {
   "cell_type": "markdown",
   "metadata": {},
   "source": [
    "### Dropping 'emp_title' feature"
   ]
  },
  {
   "cell_type": "code",
   "execution_count": 21,
   "metadata": {},
   "outputs": [
    {
     "name": "stdout",
     "output_type": "stream",
     "text": [
      "Teacher                  0.016507\n",
      "Manager                  0.013800\n",
      "Registered Nurse         0.006752\n",
      "Owner                    0.006589\n",
      "RN                       0.006489\n",
      "                           ...   \n",
      "A Storage Place          0.000002\n",
      "HOND AOF SEATTLE         0.000002\n",
      "RN IV Nurse Manager      0.000002\n",
      "production asscociate    0.000002\n",
      "Child care worker        0.000002\n",
      "Name: emp_title, Length: 190124, dtype: float64\n"
     ]
    }
   ],
   "source": [
    "item_counts = data.emp_title.value_counts(normalize=True)\n",
    "print(item_counts)"
   ]
  },
  {
   "cell_type": "code",
   "execution_count": 22,
   "metadata": {},
   "outputs": [],
   "source": [
    "# Adding 'emp_title' to drop list\n",
    "features_to_drop.append('emp_title')"
   ]
  },
  {
   "cell_type": "markdown",
   "metadata": {},
   "source": [
    "### Converting 'emp_length' to Readable format"
   ]
  },
  {
   "cell_type": "code",
   "execution_count": 23,
   "metadata": {},
   "outputs": [
    {
     "data": {
      "image/png": "[encoded data removed]",
      "text/plain": [
       "<Figure size 432x288 with 1 Axes>"
      ]
     },
     "metadata": {},
     "output_type": "display_data"
    }
   ],
   "source": [
    "bar_graph('emp_length')"
   ]
  },
  {
   "cell_type": "code",
   "execution_count": 24,
   "metadata": {},
   "outputs": [
    {
     "name": "stdout",
     "output_type": "stream",
     "text": [
      "[Info]: Transforming: emp_length...\n"
     ]
    }
   ],
   "source": [
    "print('[Info]: Transforming: emp_length...')\n",
    "data['emp_length'].replace('n/a', '0', inplace=True)\n",
    "data['emp_length'].replace(to_replace='\\+ years', value='', regex=True, inplace=True)\n",
    "data['emp_length'].replace(to_replace=' years', value='', regex=True, inplace=True)\n",
    "data['emp_length'].replace(to_replace='< 1 year', value='0', regex=True, inplace=True)\n",
    "data['emp_length'].replace(to_replace=' year', value='', regex=True, inplace=True)\n",
    "data['emp_length'] = pd.to_numeric(data['emp_length'], errors='coerce')"
   ]
  },
  {
   "cell_type": "code",
   "execution_count": 25,
   "metadata": {},
   "outputs": [
    {
     "data": {
      "image/png": "[encoded data removed]",
      "text/plain": [
       "<Figure size 432x288 with 1 Axes>"
      ]
     },
     "metadata": {},
     "output_type": "display_data"
    }
   ],
   "source": [
    "bar_graph('emp_length')"
   ]
  },
  {
   "cell_type": "markdown",
   "metadata": {},
   "source": [
    "### Mapping 'home_ownership' to three classes"
   ]
  },
  {
   "cell_type": "code",
   "execution_count": 26,
   "metadata": {},
   "outputs": [
    {
     "data": {
      "image/png": "[encoded data removed]",
      "text/plain": [
       "<Figure size 432x288 with 1 Axes>"
      ]
     },
     "metadata": {},
     "output_type": "display_data"
    }
   ],
   "source": [
    "bar_graph('home_ownership')"
   ]
  },
  {
   "cell_type": "code",
   "execution_count": 27,
   "metadata": {},
   "outputs": [],
   "source": [
    "# data['home_ownership'].value_counts(normalize=True)"
   ]
  },
  {
   "cell_type": "code",
   "execution_count": 28,
   "metadata": {},
   "outputs": [],
   "source": [
    "# data['home_ownership'] = data['home_ownership'].map({\n",
    "#     'NONE': 'low',\n",
    "#     'OTHER': 'low',\n",
    "#     'ANY': 'low',\n",
    "#     'RENT': 'mid',\n",
    "#     'OWN' : 'high',\n",
    "#     'MORTGAGE': 'high'\n",
    "# })"
   ]
  },
  {
   "cell_type": "code",
   "execution_count": 29,
   "metadata": {},
   "outputs": [],
   "source": [
    "# data = create_dummy(data, 'home_ownership')"
   ]
  },
  {
   "cell_type": "code",
   "execution_count": 30,
   "metadata": {},
   "outputs": [],
   "source": [
    "# Adding 'home_ownership' to drop list\n",
    "features_to_drop.append('home_ownership')"
   ]
  },
  {
   "cell_type": "markdown",
   "metadata": {},
   "source": [
    "### No change in 'annunal_inc'"
   ]
  },
  {
   "cell_type": "markdown",
   "metadata": {},
   "source": [
    "### Creating Dummy Variable for 'verification_status'"
   ]
  },
  {
   "cell_type": "code",
   "execution_count": 31,
   "metadata": {},
   "outputs": [
    {
     "data": {
      "image/png": "[encoded data removed]",
      "text/plain": [
       "<Figure size 432x288 with 1 Axes>"
      ]
     },
     "metadata": {},
     "output_type": "display_data"
    }
   ],
   "source": [
    "bar_graph('verification_status')"
   ]
  },
  {
   "cell_type": "code",
   "execution_count": 32,
   "metadata": {},
   "outputs": [],
   "source": [
    "data = create_dummy(data, 'verification_status')"
   ]
  },
  {
   "cell_type": "markdown",
   "metadata": {},
   "source": [
    "### Dropping 'pymnt_plan'"
   ]
  },
  {
   "cell_type": "code",
   "execution_count": 33,
   "metadata": {},
   "outputs": [
    {
     "data": {
      "image/png": "[encoded data removed]",
      "text/plain": [
       "<Figure size 432x288 with 1 Axes>"
      ]
     },
     "metadata": {},
     "output_type": "display_data"
    }
   ],
   "source": [
    "bar_graph('pymnt_plan')"
   ]
  },
  {
   "cell_type": "code",
   "execution_count": 34,
   "metadata": {},
   "outputs": [],
   "source": [
    "# data = create_dummy(data, 'pymnt_plan')"
   ]
  },
  {
   "cell_type": "code",
   "execution_count": 35,
   "metadata": {},
   "outputs": [],
   "source": [
    "features_to_drop.append('pymnt_plan')"
   ]
  },
  {
   "cell_type": "markdown",
   "metadata": {},
   "source": [
    "### Creating Dummy for 'purpose' feature"
   ]
  },
  {
   "cell_type": "code",
   "execution_count": 36,
   "metadata": {},
   "outputs": [
    {
     "data": {
      "image/png": "[encoded data removed]",
      "text/plain": [
       "<Figure size 432x288 with 1 Axes>"
      ]
     },
     "metadata": {},
     "output_type": "display_data"
    }
   ],
   "source": [
    "bar_graph('purpose')"
   ]
  },
  {
   "cell_type": "code",
   "execution_count": 37,
   "metadata": {},
   "outputs": [],
   "source": [
    "data = create_dummy(data, 'purpose')"
   ]
  },
  {
   "cell_type": "markdown",
   "metadata": {},
   "source": [
    "### Dropping 'title', 'zip_code' and 'addr_state'"
   ]
  },
  {
   "cell_type": "code",
   "execution_count": 38,
   "metadata": {},
   "outputs": [],
   "source": [
    "# Adding 'title', 'zip_code', 'addr_state' to drop list\n",
    "features_to_drop.extend(['title', 'zip_code', 'addr_state'])"
   ]
  },
  {
   "cell_type": "markdown",
   "metadata": {},
   "source": [
    "### Dropping 'initial_list_status' feature"
   ]
  },
  {
   "cell_type": "code",
   "execution_count": 39,
   "metadata": {},
   "outputs": [
    {
     "data": {
      "image/png": "[encoded data removed]",
      "text/plain": [
       "<Figure size 432x288 with 1 Axes>"
      ]
     },
     "metadata": {},
     "output_type": "display_data"
    }
   ],
   "source": [
    "bar_graph('initial_list_status')"
   ]
  },
  {
   "cell_type": "code",
   "execution_count": 40,
   "metadata": {},
   "outputs": [],
   "source": [
    "# data = create_dummy(data, 'initial_list_status')"
   ]
  },
  {
   "cell_type": "code",
   "execution_count": 41,
   "metadata": {},
   "outputs": [],
   "source": [
    "features_to_drop.append('initial_list_status')"
   ]
  },
  {
   "cell_type": "markdown",
   "metadata": {},
   "source": [
    "### Dropping 'application_type'"
   ]
  },
  {
   "cell_type": "code",
   "execution_count": 42,
   "metadata": {},
   "outputs": [
    {
     "data": {
      "image/png": "[encoded data removed]",
      "text/plain": [
       "<Figure size 432x288 with 1 Axes>"
      ]
     },
     "metadata": {},
     "output_type": "display_data"
    }
   ],
   "source": [
    "bar_graph('application_type')"
   ]
  },
  {
   "cell_type": "code",
   "execution_count": 43,
   "metadata": {},
   "outputs": [],
   "source": [
    "# data = create_dummy(data, 'application_type')"
   ]
  },
  {
   "cell_type": "code",
   "execution_count": 44,
   "metadata": {},
   "outputs": [],
   "source": [
    "features_to_drop.append('application_type')"
   ]
  },
  {
   "cell_type": "markdown",
   "metadata": {},
   "source": [
    "### Dropping 'last_week_pay' feature"
   ]
  },
  {
   "cell_type": "code",
   "execution_count": 45,
   "metadata": {},
   "outputs": [],
   "source": [
    "# Adding 'last_week_pay' to drop list\n",
    "features_to_drop.append('last_week_pay')"
   ]
  },
  {
   "cell_type": "code",
   "execution_count": 46,
   "metadata": {},
   "outputs": [],
   "source": [
    "# Additional Drops to reduce training Parameters\n",
    "features_to_drop.append('collection_recovery_fee')"
   ]
  },
  {
   "cell_type": "code",
   "execution_count": 47,
   "metadata": {},
   "outputs": [],
   "source": [
    "drop_features(data, features_to_drop)"
   ]
  },
  {
   "cell_type": "code",
   "execution_count": null,
   "metadata": {},
   "outputs": [],
   "source": []
  },
  {
   "cell_type": "code",
   "execution_count": 48,
   "metadata": {
    "scrolled": true
   },
   "outputs": [
    {
     "name": "stdout",
     "output_type": "stream",
     "text": [
      "<class 'pandas.core.frame.DataFrame'>\n",
      "RangeIndex: 532428 entries, 0 to 532427\n",
      "Data columns (total 50 columns):\n",
      " #   Column                               Non-Null Count   Dtype  \n",
      "---  ------                               --------------   -----  \n",
      " 0   member_id                            532428 non-null  int64  \n",
      " 1   loan_amnt                            532428 non-null  int64  \n",
      " 2   funded_amnt                          532428 non-null  int64  \n",
      " 3   funded_amnt_inv                      532428 non-null  float64\n",
      " 4   emp_length                           505537 non-null  float64\n",
      " 5   annual_inc                           532425 non-null  float64\n",
      " 6   dti                                  532428 non-null  float64\n",
      " 7   delinq_2yrs                          532412 non-null  float64\n",
      " 8   inq_last_6mths                       532412 non-null  float64\n",
      " 9   open_acc                             532412 non-null  float64\n",
      " 10  pub_rec                              532412 non-null  float64\n",
      " 11  revol_bal                            532428 non-null  float64\n",
      " 12  revol_util                           532141 non-null  float64\n",
      " 13  total_acc                            532412 non-null  float64\n",
      " 14  total_rec_int                        532428 non-null  float64\n",
      " 15  total_rec_late_fee                   532428 non-null  float64\n",
      " 16  recoveries                           532428 non-null  float64\n",
      " 17  collections_12_mths_ex_med           532333 non-null  float64\n",
      " 18  acc_now_delinq                       532412 non-null  float64\n",
      " 19  tot_coll_amt                         490424 non-null  float64\n",
      " 20  tot_cur_bal                          490424 non-null  float64\n",
      " 21  total_rev_hi_lim                     490424 non-null  float64\n",
      " 22  loan_status                          532428 non-null  int64  \n",
      " 23  int_rate_bins_low                    532428 non-null  uint8  \n",
      " 24  int_rate_bins_mid                    532428 non-null  uint8  \n",
      " 25  int_rate_bins_high                   532428 non-null  uint8  \n",
      " 26  grade_A                              532428 non-null  uint8  \n",
      " 27  grade_B                              532428 non-null  uint8  \n",
      " 28  grade_C                              532428 non-null  uint8  \n",
      " 29  grade_D                              532428 non-null  uint8  \n",
      " 30  grade_E                              532428 non-null  uint8  \n",
      " 31  grade_F                              532428 non-null  uint8  \n",
      " 32  grade_G                              532428 non-null  uint8  \n",
      " 33  verification_status_Not Verified     532428 non-null  uint8  \n",
      " 34  verification_status_Source Verified  532428 non-null  uint8  \n",
      " 35  verification_status_Verified         532428 non-null  uint8  \n",
      " 36  purpose_car                          532428 non-null  uint8  \n",
      " 37  purpose_credit_card                  532428 non-null  uint8  \n",
      " 38  purpose_debt_consolidation           532428 non-null  uint8  \n",
      " 39  purpose_educational                  532428 non-null  uint8  \n",
      " 40  purpose_home_improvement             532428 non-null  uint8  \n",
      " 41  purpose_house                        532428 non-null  uint8  \n",
      " 42  purpose_major_purchase               532428 non-null  uint8  \n",
      " 43  purpose_medical                      532428 non-null  uint8  \n",
      " 44  purpose_moving                       532428 non-null  uint8  \n",
      " 45  purpose_other                        532428 non-null  uint8  \n",
      " 46  purpose_renewable_energy             532428 non-null  uint8  \n",
      " 47  purpose_small_business               532428 non-null  uint8  \n",
      " 48  purpose_vacation                     532428 non-null  uint8  \n",
      " 49  purpose_wedding                      532428 non-null  uint8  \n",
      "dtypes: float64(19), int64(4), uint8(27)\n",
      "memory usage: 107.1 MB\n"
     ]
    }
   ],
   "source": [
    "data.info()"
   ]
  },
  {
   "cell_type": "code",
   "execution_count": null,
   "metadata": {},
   "outputs": [],
   "source": []
  },
  {
   "cell_type": "code",
   "execution_count": null,
   "metadata": {},
   "outputs": [],
   "source": []
  },
  {
   "cell_type": "code",
   "execution_count": 49,
   "metadata": {},
   "outputs": [],
   "source": [
    "# Saving the modified file\n",
    "data.to_csv('train_modified.csv', encoding='utf-8', index=False)"
   ]
  },
  {
   "cell_type": "code",
   "execution_count": 50,
   "metadata": {},
   "outputs": [],
   "source": [
    "data_test = pd.read_csv('test_indessa.csv')"
   ]
  },
  {
   "cell_type": "code",
   "execution_count": 51,
   "metadata": {},
   "outputs": [
    {
     "name": "stdout",
     "output_type": "stream",
     "text": [
      "[Info]: Making changes to Test Data\n",
      "[Info]: Removing missing value Features\n",
      "[Info]: Converting \"int_rate\" into Bins\n",
      "[Info]: Creating Dummy for \"int_rate_bins\"\n",
      "[Info]: Creating Dummy for \"grade\" into Bins\n",
      "[Info]: Changing \"emp_length\" to Readable Form\n",
      "[Info]: Creating Dummy for \"verification_status\"\n",
      "[Info]: Creating Dummy for \"purpose\"\n",
      "[Info]: Dropping Undesired Features\n",
      "\n",
      "[Info]: All necessory changes are Completed\n"
     ]
    }
   ],
   "source": [
    "# applying all the changes done to train set, to test set\n",
    "\n",
    "print('[Info]: Making changes to Test Data')\n",
    "\n",
    "print('[Info]: Removing missing value Features')\n",
    "drop_features(data_test, missing_value_feat)\n",
    "\n",
    "print('[Info]: Converting \"int_rate\" into Bins')\n",
    "int_rate_bins = pd.cut(data_test.int_rate, bins = [5,9,17,29],\n",
    "                       labels=['low', 'mid', 'high'])\n",
    "data_test.insert(7,'int_rate_bins',int_rate_bins)\n",
    "\n",
    "print('[Info]: Creating Dummy for \"int_rate_bins\"')\n",
    "data_test = create_dummy(data_test, 'int_rate_bins')\n",
    "\n",
    "print('[Info]: Creating Dummy for \"grade\" into Bins')\n",
    "data_test = create_dummy(data_test, 'grade')\n",
    "\n",
    "print('[Info]: Changing \"emp_length\" to Readable Form')\n",
    "data_test['emp_length'].replace('n/a', '0', inplace=True)\n",
    "data_test['emp_length'].replace(to_replace='\\+ years', value='', regex=True, inplace=True)\n",
    "data_test['emp_length'].replace(to_replace=' years', value='', regex=True, inplace=True)\n",
    "data_test['emp_length'].replace(to_replace='< 1 year', value='0', regex=True, inplace=True)\n",
    "data_test['emp_length'].replace(to_replace=' year', value='', regex=True, inplace=True)\n",
    "data_test['emp_length'] = pd.to_numeric(data_test['emp_length'], errors='coerce')\n",
    "\n",
    "# print('[Info]: Creating Bins for \"home_ownership\"')\n",
    "# data_test['home_ownership'] = data_test['home_ownership'].map({\n",
    "#     'NONE': 'low',\n",
    "#     'OTHER': 'low',\n",
    "#     'ANY': 'low',\n",
    "#     'RENT': 'mid',\n",
    "#     'OWN' : 'high',\n",
    "#     'MORTGAGE': 'high'})\n",
    "\n",
    "# print('[Info]: Creating Dummy for \"home_ownership\"')\n",
    "# data_test = create_dummy(data_test, 'home_ownership')\n",
    "\n",
    "print('[Info]: Creating Dummy for \"verification_status\"')\n",
    "data_test = create_dummy(data_test, 'verification_status')\n",
    "\n",
    "# print('[Info]: Creating Dummy for \"pymnt_plan\"')\n",
    "# data_test = create_dummy(data_test, 'pymnt_plan')\n",
    "\n",
    "print('[Info]: Creating Dummy for \"purpose\"')\n",
    "data_test = create_dummy(data_test, 'purpose')\n",
    "\n",
    "# print('[Info]: Creating Dummy for \"initial_list_status\"')\n",
    "# data_test = create_dummy(data_test, 'initial_list_status')\n",
    "\n",
    "# print('[Info]: Creating Dummy for \"application_type\"')\n",
    "# data_test = create_dummy(data_test, 'application_type')\n",
    "\n",
    "print('[Info]: Dropping Undesired Features')\n",
    "drop_features(data_test, features_to_drop)\n",
    "\n",
    "print('\\n[Info]: All necessory changes are Completed')"
   ]
  },
  {
   "cell_type": "code",
   "execution_count": 52,
   "metadata": {},
   "outputs": [],
   "source": [
    "# Saving the modified file\n",
    "data_test.to_csv('test_modified.csv', encoding='utf-8', index=False)"
   ]
  },
  {
   "cell_type": "code",
   "execution_count": 53,
   "metadata": {
    "scrolled": true
   },
   "outputs": [
    {
     "name": "stdout",
     "output_type": "stream",
     "text": [
      "<class 'pandas.core.frame.DataFrame'>\n",
      "RangeIndex: 354951 entries, 0 to 354950\n",
      "Data columns (total 49 columns):\n",
      " #   Column                               Non-Null Count   Dtype  \n",
      "---  ------                               --------------   -----  \n",
      " 0   member_id                            354951 non-null  int64  \n",
      " 1   loan_amnt                            354951 non-null  int64  \n",
      " 2   funded_amnt                          354951 non-null  int64  \n",
      " 3   funded_amnt_inv                      354951 non-null  float64\n",
      " 4   emp_length                           337017 non-null  float64\n",
      " 5   annual_inc                           354950 non-null  float64\n",
      " 6   dti                                  354951 non-null  float64\n",
      " 7   delinq_2yrs                          354938 non-null  float64\n",
      " 8   inq_last_6mths                       354938 non-null  float64\n",
      " 9   open_acc                             354938 non-null  float64\n",
      " 10  pub_rec                              354938 non-null  float64\n",
      " 11  revol_bal                            354951 non-null  int64  \n",
      " 12  revol_util                           354736 non-null  float64\n",
      " 13  total_acc                            354938 non-null  float64\n",
      " 14  total_rec_int                        354951 non-null  float64\n",
      " 15  total_rec_late_fee                   354951 non-null  float64\n",
      " 16  recoveries                           354951 non-null  float64\n",
      " 17  collections_12_mths_ex_med           354901 non-null  float64\n",
      " 18  acc_now_delinq                       354938 non-null  float64\n",
      " 19  tot_coll_amt                         326679 non-null  float64\n",
      " 20  tot_cur_bal                          326679 non-null  float64\n",
      " 21  total_rev_hi_lim                     326679 non-null  float64\n",
      " 22  int_rate_bins_low                    354951 non-null  uint8  \n",
      " 23  int_rate_bins_mid                    354951 non-null  uint8  \n",
      " 24  int_rate_bins_high                   354951 non-null  uint8  \n",
      " 25  grade_A                              354951 non-null  uint8  \n",
      " 26  grade_B                              354951 non-null  uint8  \n",
      " 27  grade_C                              354951 non-null  uint8  \n",
      " 28  grade_D                              354951 non-null  uint8  \n",
      " 29  grade_E                              354951 non-null  uint8  \n",
      " 30  grade_F                              354951 non-null  uint8  \n",
      " 31  grade_G                              354951 non-null  uint8  \n",
      " 32  verification_status_Not Verified     354951 non-null  uint8  \n",
      " 33  verification_status_Source Verified  354951 non-null  uint8  \n",
      " 34  verification_status_Verified         354951 non-null  uint8  \n",
      " 35  purpose_car                          354951 non-null  uint8  \n",
      " 36  purpose_credit_card                  354951 non-null  uint8  \n",
      " 37  purpose_debt_consolidation           354951 non-null  uint8  \n",
      " 38  purpose_educational                  354951 non-null  uint8  \n",
      " 39  purpose_home_improvement             354951 non-null  uint8  \n",
      " 40  purpose_house                        354951 non-null  uint8  \n",
      " 41  purpose_major_purchase               354951 non-null  uint8  \n",
      " 42  purpose_medical                      354951 non-null  uint8  \n",
      " 43  purpose_moving                       354951 non-null  uint8  \n",
      " 44  purpose_other                        354951 non-null  uint8  \n",
      " 45  purpose_renewable_energy             354951 non-null  uint8  \n",
      " 46  purpose_small_business               354951 non-null  uint8  \n",
      " 47  purpose_vacation                     354951 non-null  uint8  \n",
      " 48  purpose_wedding                      354951 non-null  uint8  \n",
      "dtypes: float64(18), int64(4), uint8(27)\n",
      "memory usage: 68.7 MB\n"
     ]
    }
   ],
   "source": [
    "data_test.info()"
   ]
  }
 ],
 "metadata": {
  "kernelspec": {
   "display_name": "Python 3",
   "language": "python",
   "name": "python3"
  },
  "language_info": {
   "codemirror_mode": {
    "name": "ipython",
    "version": 3
   },
   "file_extension": ".py",
   "mimetype": "text/x-python",
   "name": "python",
   "nbconvert_exporter": "python",
   "pygments_lexer": "ipython3",
   "version": "3.8.5"
  }
 },
 "nbformat": 4,
 "nbformat_minor": 4
}
